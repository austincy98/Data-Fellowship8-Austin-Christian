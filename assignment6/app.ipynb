{
 "cells": [
  {
   "cell_type": "code",
   "execution_count": 1,
   "metadata": {},
   "outputs": [],
   "source": [
    "import sys\n",
    "from pyspark.sql import SparkSession, functions\n",
    "from pyspark.sql.types import StringType"
   ]
  },
  {
   "cell_type": "code",
   "execution_count": 2,
   "metadata": {},
   "outputs": [],
   "source": [
    "spark = SparkSession.builder \\\n",
    "    .master(\"local[*]\") \\\n",
    "    .appName('test') \\\n",
    "    .getOrCreate()"
   ]
  },
  {
   "cell_type": "code",
   "execution_count": 3,
   "metadata": {},
   "outputs": [
    {
     "data": {
      "text/html": [
       "\n",
       "            <div>\n",
       "                <p><b>SparkSession - in-memory</b></p>\n",
       "                \n",
       "        <div>\n",
       "            <p><b>SparkContext</b></p>\n",
       "\n",
       "            <p><a href=\"http://host.docker.internal:4040\">Spark UI</a></p>\n",
       "\n",
       "            <dl>\n",
       "              <dt>Version</dt>\n",
       "                <dd><code>v3.3.1</code></dd>\n",
       "              <dt>Master</dt>\n",
       "                <dd><code>local[*]</code></dd>\n",
       "              <dt>AppName</dt>\n",
       "                <dd><code>test</code></dd>\n",
       "            </dl>\n",
       "        </div>\n",
       "        \n",
       "            </div>\n",
       "        "
      ],
      "text/plain": [
       "<pyspark.sql.session.SparkSession at 0x2cede31b580>"
      ]
     },
     "execution_count": 3,
     "metadata": {},
     "output_type": "execute_result"
    }
   ],
   "source": [
    "spark"
   ]
  },
  {
   "cell_type": "code",
   "execution_count": 4,
   "metadata": {},
   "outputs": [
    {
     "data": {
      "text/plain": [
       "'fhv_tripdata_2019-02.parquet'"
      ]
     },
     "execution_count": 4,
     "metadata": {},
     "output_type": "execute_result"
    }
   ],
   "source": [
    "import wget\n",
    "wget.download('https://d37ci6vzurychx.cloudfront.net/trip-data/yellow_tripdata_2019-02.parquet')\n",
    "wget.download('https://d37ci6vzurychx.cloudfront.net/trip-data/green_tripdata_2019-02.parquet')\n",
    "wget.download('https://d37ci6vzurychx.cloudfront.net/trip-data/fhv_tripdata_2019-02.parquet')"
   ]
  },
  {
   "cell_type": "code",
   "execution_count": 5,
   "metadata": {},
   "outputs": [],
   "source": [
    "df_fhv=spark.read\\\n",
    "    .option('header', 'true')\\\n",
    "        .parquet('C:/Users/Bloodink/Documents/data_fellowship_8_IYKRA/Data-Fellowship8-Austin-Christian/assignment6/fhv_tripdata_2019-02.parquet')\n",
    "\n",
    "df1=spark.read\\\n",
    "    .option('header', 'true')\\\n",
    "        .parquet('C:/Users/Bloodink/Documents/data_fellowship_8_IYKRA/Data-Fellowship8-Austin-Christian/assignment6/yellow_tripdata_2019-02.parquet')\n",
    "\n",
    "df2=spark.read\\\n",
    "    .option('header', 'true')\\\n",
    "        .parquet('C:/Users/Bloodink/Documents/data_fellowship_8_IYKRA/Data-Fellowship8-Austin-Christian/assignment6/green_tripdata_2019-02.parquet')\n"
   ]
  },
  {
   "cell_type": "code",
   "execution_count": 6,
   "metadata": {},
   "outputs": [
    {
     "name": "stdout",
     "output_type": "stream",
     "text": [
      "+--------------------+-------------------+-------------------+------------+------------+-------+----------------------+\n",
      "|dispatching_base_num|    pickup_datetime|   dropOff_datetime|PUlocationID|DOlocationID|SR_Flag|Affiliated_base_number|\n",
      "+--------------------+-------------------+-------------------+------------+------------+-------+----------------------+\n",
      "|              B00037|2019-02-01 07:08:44|2019-02-01 07:23:35|       264.0|       265.0|   null|                B00037|\n",
      "|              B00037|2019-02-01 07:27:51|2019-02-01 07:32:54|       264.0|       265.0|   null|                B00037|\n",
      "|              B00037|2019-02-01 07:18:30|2019-02-01 07:25:45|       264.0|       265.0|   null|                B00037|\n",
      "|              B00037|2019-02-01 07:43:15|2019-02-01 07:48:29|       264.0|       265.0|   null|                B00037|\n",
      "|              B00037|2019-02-01 07:01:45|2019-02-01 07:09:13|       264.0|       265.0|   null|                B00037|\n",
      "+--------------------+-------------------+-------------------+------------+------------+-------+----------------------+\n",
      "only showing top 5 rows\n",
      "\n"
     ]
    }
   ],
   "source": [
    "df_fhv.show(5)"
   ]
  },
  {
   "cell_type": "code",
   "execution_count": 7,
   "metadata": {},
   "outputs": [
    {
     "name": "stdout",
     "output_type": "stream",
     "text": [
      "+--------+--------------------+---------------------+---------------+-------------+----------+------------------+------------+------------+------------+-----------+-----+-------+----------+------------+---------------------+------------+--------------------+-----------+\n",
      "|VendorID|tpep_pickup_datetime|tpep_dropoff_datetime|passenger_count|trip_distance|RatecodeID|store_and_fwd_flag|PULocationID|DOLocationID|payment_type|fare_amount|extra|mta_tax|tip_amount|tolls_amount|improvement_surcharge|total_amount|congestion_surcharge|airport_fee|\n",
      "+--------+--------------------+---------------------+---------------+-------------+----------+------------------+------------+------------+------------+-----------+-----+-------+----------+------------+---------------------+------------+--------------------+-----------+\n",
      "|       1| 2019-02-01 07:59:04|  2019-02-01 08:07:27|            1.0|          2.1|       1.0|                 N|          48|         234|           1|        9.0|  0.5|    0.5|       2.0|         0.0|                  0.3|        12.3|                 0.0|       null|\n",
      "|       1| 2019-02-01 07:33:09|  2019-02-01 08:03:58|            1.0|          9.8|       1.0|                 N|         230|          93|           2|       32.0|  0.5|    0.5|       0.0|         0.0|                  0.3|        33.3|                 0.0|       null|\n",
      "|       1| 2019-02-01 07:09:03|  2019-02-01 07:09:16|            1.0|          0.0|       1.0|                 N|         145|         145|           2|        2.5|  0.5|    0.5|       0.0|         0.0|                  0.3|         3.8|                 0.0|       null|\n",
      "|       1| 2019-02-01 07:45:38|  2019-02-01 07:51:10|            1.0|          0.8|       1.0|                 N|          95|          95|           2|        5.5|  0.5|    0.5|       0.0|         0.0|                  0.3|         6.8|                 0.0|       null|\n",
      "|       1| 2019-02-01 07:25:30|  2019-02-01 07:28:14|            1.0|          0.8|       1.0|                 N|         140|         263|           2|        5.0|  0.5|    0.5|       0.0|         0.0|                  0.3|         6.3|                 0.0|       null|\n",
      "+--------+--------------------+---------------------+---------------+-------------+----------+------------------+------------+------------+------------+-----------+-----+-------+----------+------------+---------------------+------------+--------------------+-----------+\n",
      "only showing top 5 rows\n",
      "\n"
     ]
    }
   ],
   "source": [
    "df1.show(5)"
   ]
  },
  {
   "cell_type": "code",
   "execution_count": 8,
   "metadata": {},
   "outputs": [
    {
     "name": "stdout",
     "output_type": "stream",
     "text": [
      "+--------+--------------------+---------------------+------------------+----------+------------+------------+---------------+-------------+-----------+-----+-------+----------+------------+---------+---------------------+------------+------------+---------+--------------------+\n",
      "|VendorID|lpep_pickup_datetime|lpep_dropoff_datetime|store_and_fwd_flag|RatecodeID|PULocationID|DOLocationID|passenger_count|trip_distance|fare_amount|extra|mta_tax|tip_amount|tolls_amount|ehail_fee|improvement_surcharge|total_amount|payment_type|trip_type|congestion_surcharge|\n",
      "+--------+--------------------+---------------------+------------------+----------+------------+------------+---------------+-------------+-----------+-----+-------+----------+------------+---------+---------------------+------------+------------+---------+--------------------+\n",
      "|       2| 2019-02-01 07:10:19|  2019-02-01 07:21:43|                 N|       1.0|          92|         135|            1.0|         2.79|       11.0|  0.5|    0.5|      3.08|         0.0|     null|                  0.3|       15.38|         1.0|      1.0|                 0.0|\n",
      "|       2| 2019-02-01 07:02:16|  2019-02-01 07:24:37|                 N|       1.0|          66|          36|            1.0|         4.46|       17.5|  0.5|    0.5|      3.76|         0.0|     null|                  0.3|       22.56|         1.0|      1.0|                 0.0|\n",
      "|       2| 2019-02-01 07:37:19|  2019-02-01 07:43:07|                 N|       1.0|         255|         112|            1.0|         1.26|        6.0|  0.5|    0.5|      1.46|         0.0|     null|                  0.3|        8.76|         1.0|      1.0|                 0.0|\n",
      "|       1| 2019-02-01 07:10:10|  2019-02-01 07:12:21|                 N|       1.0|          75|         238|            1.0|          0.7|        4.0|  0.5|    0.5|       0.0|         0.0|     null|                  0.3|         5.3|         2.0|      1.0|                 0.0|\n",
      "|       1| 2019-02-01 07:30:19|  2019-02-01 07:46:14|                 N|       1.0|          75|          48|            1.0|          3.9|       14.5|  0.5|    0.5|       0.0|         0.0|     null|                  0.3|        15.8|         2.0|      1.0|                 0.0|\n",
      "+--------+--------------------+---------------------+------------------+----------+------------+------------+---------------+-------------+-----------+-----+-------+----------+------------+---------+---------------------+------------+------------+---------+--------------------+\n",
      "only showing top 5 rows\n",
      "\n"
     ]
    }
   ],
   "source": [
    "df2.show(5)"
   ]
  },
  {
   "cell_type": "code",
   "execution_count": 9,
   "metadata": {},
   "outputs": [],
   "source": [
    "df_fhv.createOrReplaceTempView('fhv')\n",
    "df1.createOrReplaceTempView('tripdata')\n",
    "df2.createOrReplaceTempView('tripdata_green')"
   ]
  },
  {
   "attachments": {},
   "cell_type": "markdown",
   "metadata": {},
   "source": [
    "## Problem 1\n",
    "How many taxi trips were there on February 15?"
   ]
  },
  {
   "cell_type": "code",
   "execution_count": 10,
   "metadata": {},
   "outputs": [
    {
     "data": {
      "text/plain": [
       "268129"
      ]
     },
     "execution_count": 10,
     "metadata": {},
     "output_type": "execute_result"
    }
   ],
   "source": [
    "df1.where((df1.tpep_pickup_datetime >= '2019-02-15')& (df1.tpep_pickup_datetime <= '2019-02-16')).count()"
   ]
  },
  {
   "cell_type": "code",
   "execution_count": 11,
   "metadata": {},
   "outputs": [
    {
     "data": {
      "text/plain": [
       "23924"
      ]
     },
     "execution_count": 11,
     "metadata": {},
     "output_type": "execute_result"
    }
   ],
   "source": [
    "df2.where((df2.lpep_pickup_datetime >= '2019-02-15') & (df2.lpep_pickup_datetime <= '2019-02-16') ).count()"
   ]
  },
  {
   "attachments": {},
   "cell_type": "markdown",
   "metadata": {},
   "source": [
    "## Problem 2\n",
    "Find the longest trip for each day ?"
   ]
  },
  {
   "cell_type": "code",
   "execution_count": 12,
   "metadata": {},
   "outputs": [
    {
     "name": "stdout",
     "output_type": "stream",
     "text": [
      "+--------------------+------------------+\n",
      "|tpep_pickup_datetime|max(trip_distance)|\n",
      "+--------------------+------------------+\n",
      "|          2008-12-31|             19.61|\n",
      "|          2009-01-01|             21.66|\n",
      "|          2009-01-02|              9.15|\n",
      "|          2019-01-20|               0.0|\n",
      "|          2019-01-30|               0.0|\n",
      "|          2019-01-31|             20.33|\n",
      "|          2019-02-01|             701.5|\n",
      "|          2019-02-02|             71.04|\n",
      "|          2019-02-03|            130.53|\n",
      "|          2019-02-04|              77.9|\n",
      "|          2019-02-05|             87.99|\n",
      "|          2019-02-06|             74.98|\n",
      "|          2019-02-07|              64.6|\n",
      "|          2019-02-08|             74.24|\n",
      "|          2019-02-09|             85.31|\n",
      "|          2019-02-10|              90.7|\n",
      "|          2019-02-11|             75.24|\n",
      "|          2019-02-12|             84.41|\n",
      "|          2019-02-13|             86.64|\n",
      "|          2019-02-14|             76.89|\n",
      "+--------------------+------------------+\n",
      "only showing top 20 rows\n",
      "\n"
     ]
    }
   ],
   "source": [
    "df1.withColumn('tpep_pickup_datetime',functions.to_date(df1.tpep_pickup_datetime)).groupBy('tpep_pickup_datetime').agg({'trip_distance':'max'}).orderBy('tpep_pickup_datetime').show()"
   ]
  },
  {
   "cell_type": "code",
   "execution_count": 13,
   "metadata": {},
   "outputs": [
    {
     "name": "stdout",
     "output_type": "stream",
     "text": [
      "+--------------------+------------------+\n",
      "|lpep_pickup_datetime|max(trip_distance)|\n",
      "+--------------------+------------------+\n",
      "|          2009-01-01|              6.43|\n",
      "|          2010-09-23|             15.79|\n",
      "|          2019-02-01|             79.85|\n",
      "|          2019-02-02|              41.5|\n",
      "|          2019-02-03|             40.34|\n",
      "|          2019-02-04|              64.4|\n",
      "|          2019-02-05|             61.42|\n",
      "|          2019-02-06|              35.6|\n",
      "|          2019-02-07|              38.1|\n",
      "|          2019-02-08|             43.43|\n",
      "|          2019-02-09|             49.38|\n",
      "|          2019-02-10|             36.25|\n",
      "|          2019-02-11|             48.27|\n",
      "|          2019-02-12|             48.95|\n",
      "|          2019-02-13|             38.76|\n",
      "|          2019-02-14|              51.2|\n",
      "|          2019-02-15|             103.7|\n",
      "|          2019-02-16|             50.94|\n",
      "|          2019-02-17|             56.96|\n",
      "|          2019-02-18|             44.86|\n",
      "+--------------------+------------------+\n",
      "only showing top 20 rows\n",
      "\n"
     ]
    }
   ],
   "source": [
    "df2.withColumn('lpep_pickup_datetime',functions.to_date(df2.lpep_pickup_datetime)).groupBy('lpep_pickup_datetime').agg({'trip_distance':'max'}).orderBy('lpep_pickup_datetime').show()"
   ]
  },
  {
   "attachments": {},
   "cell_type": "markdown",
   "metadata": {},
   "source": [
    "## Problem 3\n",
    "Find Top 5 Most frequent `dispatching_base_num` ?"
   ]
  },
  {
   "cell_type": "code",
   "execution_count": 14,
   "metadata": {},
   "outputs": [
    {
     "name": "stdout",
     "output_type": "stream",
     "text": [
      "+--------------------+-----+\n",
      "|dispatching_base_num|count|\n",
      "+--------------------+-----+\n",
      "|              B01145|44044|\n",
      "|              B00256|37898|\n",
      "|              B00900|37255|\n",
      "|              B00856|36450|\n",
      "|              B00647|32230|\n",
      "|             B01268 |30735|\n",
      "|              B01061|27958|\n",
      "|              B00937|27545|\n",
      "|              B01626|27327|\n",
      "|              B01667|26791|\n",
      "|              B01239|26725|\n",
      "|              B02437|25208|\n",
      "|              B00887|23427|\n",
      "|              B03060|20304|\n",
      "|              B00821|19630|\n",
      "|              B01087|19316|\n",
      "|              B01899|18380|\n",
      "|              B00310|18118|\n",
      "|              B01338|17716|\n",
      "|              B02550|17551|\n",
      "+--------------------+-----+\n",
      "only showing top 20 rows\n",
      "\n"
     ]
    }
   ],
   "source": [
    "spark.sql(\"SELECT dispatching_base_num, COUNT(dispatching_base_num) as count FROM fhv GROUP BY dispatching_base_num Order By count DESC\").show()"
   ]
  },
  {
   "attachments": {},
   "cell_type": "markdown",
   "metadata": {},
   "source": [
    "## Problem 4\n",
    "Find Top 5 Most common location pairs (`PUlocationID` and `DOlocationID`) ?"
   ]
  },
  {
   "cell_type": "code",
   "execution_count": 15,
   "metadata": {},
   "outputs": [
    {
     "name": "stdout",
     "output_type": "stream",
     "text": [
      "+------------+------------+-------+\n",
      "|PUlocationID|DOlocationID|  count|\n",
      "+------------+------------+-------+\n",
      "|       264.0|       265.0|1193389|\n",
      "|       264.0|       264.0| 261787|\n",
      "|       265.0|       265.0|  39351|\n",
      "|       198.0|       198.0|   3048|\n",
      "|        92.0|        92.0|   2827|\n",
      "|         7.0|         7.0|   2531|\n",
      "|        56.0|        56.0|   2351|\n",
      "|       206.0|       206.0|   2218|\n",
      "|       132.0|       265.0|   1967|\n",
      "|       223.0|       223.0|   1962|\n",
      "|       162.0|       265.0|   1575|\n",
      "|       179.0|       179.0|   1570|\n",
      "|       230.0|       265.0|   1553|\n",
      "|       129.0|       129.0|   1480|\n",
      "|       173.0|       173.0|   1402|\n",
      "|       161.0|       265.0|   1265|\n",
      "|        36.0|        36.0|   1250|\n",
      "|       138.0|       265.0|   1185|\n",
      "|       198.0|        36.0|   1126|\n",
      "|        82.0|        82.0|   1096|\n",
      "+------------+------------+-------+\n",
      "only showing top 20 rows\n",
      "\n"
     ]
    }
   ],
   "source": [
    "spark.sql(\"SELECT PUlocationID, DOlocationID, COUNT(*) as count FROM fhv GROUP BY PUlocationID, DOlocationID Order By count DESC\").show()"
   ]
  }
 ],
 "metadata": {
  "kernelspec": {
   "display_name": "base",
   "language": "python",
   "name": "python3"
  },
  "language_info": {
   "codemirror_mode": {
    "name": "ipython",
    "version": 3
   },
   "file_extension": ".py",
   "mimetype": "text/x-python",
   "name": "python",
   "nbconvert_exporter": "python",
   "pygments_lexer": "ipython3",
   "version": "3.9.7"
  },
  "orig_nbformat": 4,
  "vscode": {
   "interpreter": {
    "hash": "bdf32d5e231b9a331535de97a3bdc2d904defd3eac6aa0299a6b1d1872e28962"
   }
  }
 },
 "nbformat": 4,
 "nbformat_minor": 2
}
